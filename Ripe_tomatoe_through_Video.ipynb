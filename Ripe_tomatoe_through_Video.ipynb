{
 "cells": [
  {
   "cell_type": "code",
   "execution_count": 1,
   "metadata": {},
   "outputs": [],
   "source": [
    "#this code deals with finding riped tomatoes from tomatoes.jpg\n",
    "\n",
    "import cv2\n",
    "import numpy as np"
   ]
  },
  {
   "cell_type": "code",
   "execution_count": null,
   "metadata": {},
   "outputs": [],
   "source": [
    "cap = cv2.VideoCapture(0)\n",
    "while(1):\n",
    "    _, frame = cap.read()\n",
    "    hsv = cv2.cvtColor(frame, cv2.COLOR_BGR2HSV)\n",
    "    \n",
    "    lower_red = np.array([0,150,50])\n",
    "    upper_red = np.array([255,255,180])\n",
    "    \n",
    "    #lower_red = np.array([0,0,100])\n",
    "    #upper_red = np.array([10,255,255])\n",
    "    \n",
    "    mask = cv2.inRange(hsv, lower_red, upper_red)\n",
    "    fg = cv2.bitwise_or(frame, frame, mask=mask)\n",
    "    \n",
    "    mask_i = cv2.bitwise_not(mask)\n",
    "    bg = cv2.bitwise_or(frame, frame, mask=mask_i)\n",
    "    \n",
    "\n",
    "    bg[mask == 255] = [100, 50, 75]\n",
    "    output_img = bg.copy()\n",
    "    output_img[mask == 255] = [0, 50, 0]\n",
    "    \n",
    "    cv2.imshow('bg',bg)\n",
    "    cv2.imshow('output_2',output_img)\n",
    "    \n",
    "    \n",
    "    \n",
    "    if cv2.waitKey(1) & 0xFF==ord('q'):\n",
    "        break\n",
    "\n",
    "cap.release()\n",
    "cv2.destroyAllWindows()\n"
   ]
  },
  {
   "cell_type": "code",
   "execution_count": null,
   "metadata": {},
   "outputs": [],
   "source": []
  },
  {
   "cell_type": "code",
   "execution_count": null,
   "metadata": {},
   "outputs": [],
   "source": []
  },
  {
   "cell_type": "code",
   "execution_count": null,
   "metadata": {},
   "outputs": [],
   "source": []
  }
 ],
 "metadata": {
  "kernelspec": {
   "display_name": "Python 3",
   "language": "python",
   "name": "python3"
  },
  "language_info": {
   "codemirror_mode": {
    "name": "ipython",
    "version": 3
   },
   "file_extension": ".py",
   "mimetype": "text/x-python",
   "name": "python",
   "nbconvert_exporter": "python",
   "pygments_lexer": "ipython3",
   "version": "3.6.5"
  }
 },
 "nbformat": 4,
 "nbformat_minor": 2
}
