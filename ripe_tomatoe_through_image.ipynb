{
 "cells": [
  {
   "cell_type": "code",
   "execution_count": 1,
   "metadata": {},
   "outputs": [],
   "source": [
    "#this code deals with finding riped tomatoes from tomatoes.jpg\n",
    "\n",
    "import cv2\n",
    "import numpy as np"
   ]
  },
  {
   "cell_type": "code",
   "execution_count": 2,
   "metadata": {},
   "outputs": [],
   "source": [
    "#Read image\n",
    "img = cv2.imread(\"tomato.jpg\") \n",
    "\n",
    "\n",
    "\n",
    "#Convert BGR to HSV\n",
    "# (HUE---SATURATION--VALUE)\n",
    "\n",
    "\n",
    "hsv = cv2.cvtColor(img, cv2.COLOR_BGR2HSV)"
   ]
  },
  {
   "cell_type": "code",
   "execution_count": 3,
   "metadata": {},
   "outputs": [],
   "source": [
    "#Color strength parameters in HSV\n",
    "#Color strength parameters in HSV\n",
    "#Range of red Color in HSV\n",
    "\n",
    "weaker = np.array([0,0,100])\n",
    "stronger = np.array([10,255,255])"
   ]
  },
  {
   "cell_type": "code",
   "execution_count": 4,
   "metadata": {},
   "outputs": [
    {
     "name": "stdout",
     "output_type": "stream",
     "text": [
      "[[255 255 255 ... 255 255 255]\n",
      " [255 255 255 ... 255 255 255]\n",
      " [255 255 255 ... 255 255 255]\n",
      " ...\n",
      " [255 255 255 ... 255 255 255]\n",
      " [255 255 255 ... 255 255 255]\n",
      " [255 255 255 ... 255 255 255]]\n"
     ]
    }
   ],
   "source": [
    "#Threshold HSV image to obtain input color\n",
    "mask = cv2.inRange(hsv, weaker, stronger)\n",
    "cv2.imshow('mask',mask)\n",
    "# mask only selects red pigments\n",
    "\n",
    "#getting the red color back\n",
    "fg = cv2.bitwise_or(img, img, mask=mask)\n",
    "cv2.imshow('fg',fg)\n",
    "\n",
    "#inverted mask.....ie getting non red color in image....turning it to black\n",
    "mask_i = cv2.bitwise_not(mask)\n",
    "\n",
    "bg = cv2.bitwise_or(img, img, mask=mask_i)\n",
    "cv2.imshow('bg',bg)\n",
    "\n",
    "cv2.waitKey(0)\n",
    "cv2.destroyAllWindows()"
   ]
  },
  {
   "cell_type": "code",
   "execution_count": 38,
   "metadata": {},
   "outputs": [],
   "source": [
    "output_img = bg.copy()\n",
    "output_img[mask == 255] = [180, 150, 255]"
   ]
  },
  {
   "cell_type": "code",
   "execution_count": 39,
   "metadata": {},
   "outputs": [],
   "source": [
    "cv2.imshow('mask',output_img)\n",
    "cv2.waitKey(0)\n",
    "cv2.destroyAllWindows()"
   ]
  },
  {
   "cell_type": "code",
   "execution_count": null,
   "metadata": {},
   "outputs": [],
   "source": []
  }
 ],
 "metadata": {
  "kernelspec": {
   "display_name": "Python 3",
   "language": "python",
   "name": "python3"
  },
  "language_info": {
   "codemirror_mode": {
    "name": "ipython",
    "version": 3
   },
   "file_extension": ".py",
   "mimetype": "text/x-python",
   "name": "python",
   "nbconvert_exporter": "python",
   "pygments_lexer": "ipython3",
   "version": "3.6.5"
  }
 },
 "nbformat": 4,
 "nbformat_minor": 2
}
